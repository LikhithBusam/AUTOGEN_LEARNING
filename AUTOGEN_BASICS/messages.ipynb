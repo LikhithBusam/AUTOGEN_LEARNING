{
 "cells": [
  {
   "cell_type": "code",
   "execution_count": 7,
   "id": "a441d42e",
   "metadata": {},
   "outputs": [],
   "source": [
    "from autogen_agentchat.agents import AssistantAgent\n",
    "from autogen_ext.models.openai import OpenAIChatCompletionClient\n",
    "from autogen_agentchat.messages import TextMessage,MultiModalMessage\n",
    "from autogen_core import Image as AGImage\n",
    "from PIL import Image\n",
    "from io import BytesIO\n",
    "import os\n",
    "import requests\n",
    "from dotenv import load_dotenv"
   ]
  },
  {
   "cell_type": "code",
   "execution_count": 8,
   "id": "0815f32c",
   "metadata": {},
   "outputs": [],
   "source": [
    "load_dotenv()\n",
    "api_key = os.getenv(\"GOOGLE_API_KEY\")\n",
    "model_client=OpenAIChatCompletionClient(model=\"gemini-2.5-flash\",api_key=api_key)"
   ]
  },
  {
   "cell_type": "markdown",
   "id": "b83869ff",
   "metadata": {},
   "source": [
    "# SIMPLE TYPE OF MESSAGE-TEXTMESSAGE"
   ]
  },
  {
   "cell_type": "code",
   "execution_count": 9,
   "id": "c3e801a7",
   "metadata": {},
   "outputs": [],
   "source": [
    "agent=AssistantAgent(name=\"Assistant\",model_client=model_client,\n",
    "                     system_message=\"You are a helpful assistant that helps people find information.\")"
   ]
  },
  {
   "cell_type": "code",
   "execution_count": 11,
   "id": "a38a750a",
   "metadata": {},
   "outputs": [
    {
     "name": "stdout",
     "output_type": "stream",
     "text": [
      "That's fantastic! Completing an AI/ML program means you're equipped with powerful tools. Now, let's look at some advanced projects that can genuinely benefit society. These projects often involve real-world complexity, ethical considerations, and potentially interdisciplinary collaboration.\n",
      "\n",
      "Here are some advanced AI/ML project ideas, categorized by their societal impact:\n",
      "\n",
      "---\n",
      "\n",
      "### **I. Healthcare & Well-being**\n",
      "\n",
      "1.  **Personalized & Predictive Mental Health Support:**\n",
      "    *   **Goal:** Develop an AI system that provides highly personalized, proactive mental health support, going beyond simple chatbots.\n",
      "    *   **Advanced Aspects:**\n",
      "        *   **Multimodal Data Fusion:** Analyze text (journals, chat logs), voice (tone, pace, sentiment), physiological data (wearables like heart rate, sleep patterns), and even anonymized behavioral data.\n",
      "        *   **Early Anomaly Detection:** Predict potential mental health crises or deterioration before they become severe, triggering early intervention suggestions (e.g., suggesting a check-in with a human therapist, recommending specific coping strategies).\n",
      "        *   **Cultural & Contextual Sensitivity:** Train models on diverse datasets to understand cultural nuances and provide appropriate support.\n",
      "        *   **Ethical AI:** Focus heavily on privacy, data security, transparency, and avoiding harmful biases.\n",
      "    *   **Key AI/ML Techniques:** NLP (sentiment analysis, topic modeling, text generation), Time-series analysis, Reinforcement Learning (for adaptive interventions), Multimodal Deep Learning, Federated Learning (for privacy).\n",
      "\n",
      "2.  **AI-Powered Drug Discovery & Repurposing (Focus on Rare Diseases):**\n",
      "    *   **Goal:** Accelerate the discovery of new drugs or identify existing drugs that can be repurposed for rare and neglected diseases.\n",
      "    *   **Advanced Aspects:**\n",
      "        *   **Graph Neural Networks (GNNs):** Model complex relationships between molecules, proteins, diseases, and genes.\n",
      "        *   **Generative Models (GANs, VAEs):** Design novel molecules with desired properties.\n",
      "        *   **Automated Hypothesis Generation:** Use ML to sift through vast biomedical literature and databases to generate novel hypotheses about disease mechanisms or drug targets.\n",
      "        *   **Causal Inference:** Beyond correlation, try to infer causal relationships between biological pathways and disease progression.\n",
      "    *   **Key AI/ML Techniques:** GNNs, Generative Adversarial Networks (GANs), Variational Autoencoders (VAEs), Reinforcement Learning (for optimizing molecular design), Knowledge Graphs, Active Learning.\n",
      "\n",
      "3.  **Hyper-Personalized & Proactive Disease Risk Prediction:**\n",
      "    *   **Goal:** Develop models that predict an individual's risk for various diseases (e.g., diabetes, cardiovascular issues, certain cancers) with high precision, *years* in advance, incorporating a holistic view of their lifestyle and genetics.\n",
      "    *   **Advanced Aspects:**\n",
      "        *   **Integration of Omics Data:** Combine genomic, proteomic, metabolomic data with traditional medical records, lifestyle data (from wearables), and environmental factors.\n",
      "        *   **Longitudinal Data Analysis:** Model disease progression and risk over decades.\n",
      "        *   **Explainable AI (XAI):** Provide actionable insights into *why* someone is at risk, enabling targeted preventative measures.\n",
      "        *   **Synthetic Data Generation:** Overcome data scarcity for rare conditions or sensitive patient data.\n",
      "    *   **Key AI/ML Techniques:** Deep Learning (CNNs, LSTMs), Survival Analysis, Federated Learning, Causal Inference, XAI methods (SHAP, LIME).\n",
      "\n",
      "---\n",
      "\n",
      "### **II. Environment & Climate Change**\n",
      "\n",
      "1.  **High-Resolution Climate Impact Forecasting & Adaptation:**\n",
      "    *   **Goal:** Develop AI models that can predict localized impacts of climate change (e.g., specific areas prone to extreme heat, flash floods, drought, sea-level rise) with much higher resolution than current models, and suggest adaptation strategies.\n",
      "    *   **Advanced Aspects:**\n",
      "        *   **Fusion of Satellite Imagery, Sensor Data, & Climate Models:** Combine diverse data sources to create a highly detailed picture.\n",
      "        *   **Physics-Informed Neural Networks (PINNs):** Incorporate known physical laws of atmospheric and oceanic dynamics to improve model accuracy and interpretability.\n",
      "        *   **Scenario Planning with RL:** Use reinforcement learning to evaluate the effectiveness of different adaptation strategies (e.g., building seawalls, planting specific crops) under various climate scenarios.\n",
      "        *   **Dynamic Resource Allocation:** Optimize the deployment of resources for disaster preparedness and response based on real-time predictions.\n",
      "    *   **Key AI/ML Techniques:** PINNs, Deep Learning (CNNs for spatial data, LSTMs for time-series), Reinforcement Learning, Geospatial AI, Graph Neural Networks (for infrastructure networks).\n",
      "\n",
      "2.  **AI for Biodiversity Monitoring & Conservation:**\n",
      "    *   **Goal:** Automate and scale the monitoring of endangered species and ecosystem health using acoustic, visual, and sensor data.\n",
      "    *   **Advanced Aspects:**\n",
      "        *   **Bioacoustics Analysis:** Identify specific species from vast amounts of audio data (e.g., rainforests, oceans) with advanced sound event detection and classification, even in noisy environments.\n",
      "        *   **Drone/Satellite Imagery Analysis:** Automatically detect poaching, deforestation, illegal mining, and track wildlife populations in remote areas.\n",
      "        *   **Transfer Learning & Few-Shot Learning:** Adapt models to new species or environments with limited labeled data.\n",
      "        *   **Edge AI:** Deploy models on low-power devices in remote locations for real-time alerts.\n",
      "    *   **Key AI/ML Techniques:** Deep Learning (CNNs for image/audio), Transfer Learning, Few-Shot Learning, Anomaly Detection, Reinforcement Learning (for optimal camera/sensor placement).\n",
      "\n",
      "3.  **Smart Grid Optimization with Renewable Energy Integration:**\n",
      "    *   **Goal:** Develop an AI system that can dynamically manage energy supply and demand in a grid heavily reliant on intermittent renewable sources (solar, wind), minimizing waste and ensuring stability.\n",
      "    *   **Advanced Aspects:**\n",
      "        *   **Hyper-Local Generation & Demand Forecasting:** Predict energy generation from individual solar panels/wind turbines and demand from specific neighborhoods.\n",
      "        *   **Real-time Optimization (RL):** Use reinforcement learning to make real-time decisions on energy storage, distribution, and even price signals to consumers.\n",
      "        *   **Anomaly Detection for Grid Stability:** Identify potential failures or attacks on the grid proactively.\n",
      "        *   **Predictive Maintenance:** Forecast equipment failures in the energy infrastructure.\n",
      "    *   **Key AI/ML Techniques:** Reinforcement Learning, Time-series Forecasting (LSTMs, Transformers), Anomaly Detection, Federated Learning (for distributed sensor data), Graph Neural Networks (for grid topology).\n",
      "\n",
      "---\n",
      "\n",
      "### **III. Public Safety & Social Equity**\n",
      "\n",
      "1.  **AI for Ethical Public Safety & Resource Allocation:**\n",
      "    *   **Goal:** Use AI to optimize emergency response and public safety resource allocation while explicitly mitigating bias and promoting equitable outcomes.\n",
      "    *   **Advanced Aspects:**\n",
      "        *   **Causal AI:** Understand the *causes* of crime or emergencies, rather than just correlations, to inform preventative measures that address root issues.\n",
      "        *   **Fairness-Aware ML:** Incorporate fairness constraints directly into model training to ensure equitable resource distribution and avoid discriminatory predictions.\n",
      "        *   **Multimodal Sensor Fusion:** Integrate data from traffic sensors, social media (anonymized, aggregated), weather, historical incident data, and emergency calls for a comprehensive real-time view.\n",
      "        *   **Explainable & Auditable Models:** Ensure that decisions made by the AI can be understood and challenged by humans.\n",
      "    *   **Key AI/ML Techniques:** Causal Inference, Fairness-aware ML, Graph Neural Networks (for urban networks), NLP (for incident reports), Reinforcement Learning (for resource dispatch), XAI.\n",
      "\n",
      "2.  **AI for Detecting and Countering Disinformation/Hate Speech (Multimodal):**\n",
      "    *   **Goal:** Develop robust AI that can identify and analyze disinformation and hate speech across text, images, and video, understanding its spread and potential impact.\n",
      "    *   **Advanced Aspects:**\n",
      "        *   **Multimodal Understanding:** Analyze the interplay between text, image, and audio/video content to detect sophisticated forms of manipulation (e.g., deepfakes, misleading visuals with innocent text).\n",
      "        *   **Network Analysis:** Map the spread of disinformation through social networks, identifying key propagators and communities.\n",
      "        *   **Sentiment & Emotion Beyond Polarity:** Understand nuanced emotions and persuasive techniques used in harmful content.\n",
      "        *   **Adversarial Robustness:** Develop models that can withstand attempts to bypass detection systems.\n",
      "    *   **Key AI/ML Techniques:** Multimodal Deep Learning (Transformers, CNNs, LSTMs), Graph Neural Networks, NLP (advanced semantic understanding, fact-checking), Anomaly Detection, Adversarial AI.\n",
      "\n",
      "3.  **Adaptive Learning Platforms for Neurodivergent Learners:**\n",
      "    *   **Goal:** Create AI-powered educational tools that dynamically adapt to the unique learning styles, challenges, and strengths of neurodivergent individuals (e.g., autism, ADHD, dyslexia).\n",
      "    *   **Advanced Aspects:**\n",
      "        *   **Real-time Cognitive Load Assessment:** Monitor engagement, frustration, and comprehension through eye-tracking, voice analysis, and interaction patterns (with explicit consent).\n",
      "        *   **Personalized Content Generation:** Generate explanations, examples, or tasks in different modalities (visual, auditory, kinesthetic) based on individual needs.\n",
      "        *   **Scaffolding & Feedback:** Provide highly tailored support and feedback that adapts difficulty and presentation on the fly.\n",
      "        *   **Social-Emotional Learning (SEL) Support:** Integrate modules to help with social skills, emotional regulation, and self-advocacy.\n",
      "    *   **Key AI/ML Techniques:** Reinforcement Learning, NLP (text simplification, question generation), Computer Vision (gaze tracking), Affective Computing, Generative AI (for content).\n",
      "\n",
      "---\n",
      "\n",
      "### **IV. Sustainable Development & Agriculture**\n",
      "\n",
      "1.  **Precision Agriculture for Smallholder Farmers (Resource Optimization):**\n",
      "    *   **Goal:** Develop accessible AI solutions to help smallholder farmers in developing regions optimize crop yields, water usage, and pest management with limited resources.\n",
      "    *   **Advanced Aspects:**\n",
      "        *   **Low-Cost Sensor Integration & Satellite Imagery:** Utilize readily available or affordable sensor tech (e.g., smartphone cameras, basic weather stations) combined with open-source satellite data.\n",
      "        *   **Edge AI & Offline Capabilities:** Develop models that can run on low-power devices with intermittent internet connectivity.\n",
      "        *   **Hyper-Local Weather & Soil Prediction:** Tailor recommendations to specific plots of land, considering microclimates and soil variations.\n",
      "        *   **Disease & Pest Detection (Early Stage):** Use computer vision on mobile devices to identify crop diseases or pests at their nascent stages, recommending specific, sustainable interventions.\n",
      "    *   **Key AI/ML Techniques:** Computer Vision (CNNs), Time-series Forecasting, Transfer Learning, Federated Learning (for local data collection), Reinforcement Learning (for optimal farming strategies).\n",
      "\n",
      "---\n",
      "\n",
      "### **Key Considerations for Advanced Projects:**\n",
      "\n",
      "*   **Data Scarcity & Quality:** Many advanced societal problems lack clean, large, labeled datasets. Techniques like Few-Shot Learning, Self-Supervised Learning, Data Augmentation, and Synthetic Data Generation become crucial.\n",
      "*   **Ethical AI & Bias:** Always prioritize fairness, transparency, privacy, and accountability. Actively work to mitigate biases in data and models, especially in sensitive domains like healthcare and public safety.\n",
      "*   **Explainable AI (XAI):** For many of these applications, understanding *why* a model made a particular prediction is as important as the prediction itself.\n",
      "*   **Interdisciplinarity:** Collaborate with domain experts (doctors, climate scientists, urban planners, educators) to ensure your solutions are relevant, practical, and ethically sound.\n",
      "*   **Deployment & Impact:** Think about how your solution can actually be deployed and used in the real world to achieve its societal benefit. This often involves considerations beyond just model accuracy.\n",
      "\n",
      "Choose a project that genuinely excites you and aligns with your passions. Good luck!\n"
     ]
    }
   ],
   "source": [
    "async def test_text_message():\n",
    "    message = TextMessage(content=\"i complete the ai/ml .please suggest some advance projects useful to society\",source=\"user\")\n",
    "    result=await agent.run(task=message)\n",
    "    print(result.messages[-1].content)\n",
    "await test_text_message()"
   ]
  },
  {
   "cell_type": "markdown",
   "id": "a0ce6c0c",
   "metadata": {},
   "source": [
    "# MULTI MODAL - MESSAGES"
   ]
  },
  {
   "cell_type": "code",
   "execution_count": 2,
   "id": "c1138bb6",
   "metadata": {},
   "outputs": [
    {
     "name": "stdout",
     "output_type": "stream",
     "text": [
      "The image features a charming black puppy, likely a Labrador Retriever, looking directly up at the viewer with an incredibly expressive gaze.\n",
      "\n",
      "Here's a detailed description:\n",
      "\n",
      "*   **Subject:** A young, solid black puppy. Its fur appears sleek, short, and very soft, almost velvety, absorbing much of the light.\n",
      "*   **Pose:** The puppy is positioned on a surface, seemingly lying down or sitting, with its body extending towards the left side of the frame. Its head is tilted slightly up, focusing intently on something (or someone) above it.\n",
      "*   **Face:** Its most striking features are its large, luminous dark eyes, which have prominent, bright reflections that make them sparkle with curiosity, innocence, and a gentle, almost pleading expression. Its nose is black, slightly wet-looking, and shiny. Its floppy ears lie flat against its head, characteristic of the breed.\n",
      "*   **Background:** The puppy is set against a rustic wooden surface, possibly a floor or a wall. The wood planks are visible, showing natural grain, knots, and subtle variations in tone, mostly in shades of brown and grey. This textured background provides a warm, natural contrast to the puppy's dark fur.\n",
      "*   **Lighting:** The lighting is soft and appears to be coming from above or slightly in front, creating gentle highlights on the puppy's fur and most notably in its eyes, making them stand out.\n",
      "*   **Overall Mood:** The image evokes a feeling of warmth, cuteness, and tenderness, largely due to the puppy's engaging and soulful expression.\n"
     ]
    }
   ],
   "source": [
    "import os\n",
    "from dotenv import load_dotenv\n",
    "from autogen_agentchat.agents import AssistantAgent\n",
    "from autogen_ext.models.openai import OpenAIChatCompletionClient\n",
    "from autogen_agentchat.messages import TextMessage, MultiModalMessage\n",
    "from autogen_core import Image as AGImage\n",
    "from PIL import Image\n",
    "from io import BytesIO\n",
    "import requests\n",
    "import asyncio  # To run async function from sync context\n",
    "\n",
    "# Load environment variables\n",
    "load_dotenv()\n",
    "api_key = os.getenv(\"GOOGLE_API_KEY\")\n",
    "\n",
    "# Set up the model client\n",
    "model_client = OpenAIChatCompletionClient(model=\"gemini-2.5-flash\", api_key=api_key)\n",
    "\n",
    "# Set up the AssistantAgent\n",
    "agent = AssistantAgent(\n",
    "    name=\"Assistant\",\n",
    "    model_client=model_client,\n",
    "    system_message=\"You are a helpful assistant that helps people find information.\"\n",
    ")\n",
    "\n",
    "# Async multimodal test function\n",
    "async def test_multi_modal():\n",
    "    response = requests.get(\"https://picsum.photos/id/237/200/300\")\n",
    "    pil_image = Image.open(BytesIO(response.content))\n",
    "    ag_image = AGImage(pil_image)\n",
    "    # Construct content as a list for MultiModalMessage\n",
    "    multimodal_msg = MultiModalMessage(content=[\"describe the image\", ag_image], source=\"user\")\n",
    "    result = await agent.run(task=multimodal_msg)\n",
    "    print(result.messages[-1].content)\n",
    "\n",
    "await test_multi_modal()\n"
   ]
  },
  {
   "cell_type": "markdown",
   "id": "a181d031",
   "metadata": {},
   "source": [
    "# on_message() method"
   ]
  },
  {
   "cell_type": "code",
   "execution_count": 15,
   "id": "257e6d0f",
   "metadata": {},
   "outputs": [
    {
     "name": "stdout",
     "output_type": "stream",
     "text": [
      "[]\n",
      "\n",
      "\n",
      "\n",
      "\n",
      "\n",
      "\n",
      "id='ee43976b-7165-4773-b448-b7bc3c3ff4d6' source='Assistant' models_usage=RequestUsage(prompt_tokens=11285, completion_tokens=2080) metadata={} created_at=datetime.datetime(2025, 9, 3, 12, 38, 3, 203680, tzinfo=datetime.timezone.utc) content='That\\'s truly an exciting goal! Applying your AI/ML skills to benefit society is where some of the most impactful work happens. Since you\\'ve completed your program, let\\'s explore **truly advanced project ideas** that demand cutting-edge techniques and address complex, multifaceted societal challenges.\\n\\nThese projects will typically require:\\n\\n*   **Multimodal Data Fusion:** Integrating and reasoning across different data types (e.g., text, image, audio, sensor, tabular).\\n*   **Advanced Deep Learning Architectures:** Transformers (for more than just language), Graph Neural Networks (GNNs), Diffusion Models, Physics-Informed Neural Networks (PINNs).\\n*   **Sophisticated Learning Paradigms:** Reinforcement Learning (RL) for dynamic decision-making, Causal Inference for understanding true relationships, Federated Learning for privacy, Self-supervised learning and Few-shot learning for data scarcity.\\n*   **Strong Ethical AI Principles:** A deep focus on fairness, transparency (Explainable AI - XAI), privacy, and robustness.\\n*   **Real-world System Design:** Thinking beyond just model accuracy to deployment, integration, and real-world impact.\\n*   **Interdisciplinary Collaboration:** Essential for deep domain understanding and effective solutions.\\n\\n---\\n\\n### **1. AI for Participatory Urban Design & Equitable Policy Generation**\\n\\n*   **Societal Impact:** Empower citizens in urban planning, create more responsive, equitable, and sustainable cities, and optimize resource allocation based on community needs and preferences.\\n*   **Advanced Aspects:**\\n    *   **Multimodal Citizen Feedback Analysis:** Develop AI to ingest and synthesize diverse forms of public input:\\n        *   **NLP for Text Feedback:** Analyze sentiment, topic, and specific requests from citizen petitions, online forums, public meeting transcripts.\\n        *   **Computer Vision for Image/Video Input:** Analyze photos/videos submitted by citizens to identify specific urban issues (e.g., deteriorating infrastructure, lack of green space, traffic bottlenecks) or desired features.\\n        *   **Geospatial AI:** Integrate all feedback with urban geospatial data (maps, zoning, demographics) to identify hot spots and patterns.\\n    *   **Generative AI for Design & Policy Alternatives:** Use advanced Diffusion Models or GANs to generate *visual design proposals* for public spaces, infrastructure improvements, or urban layouts directly from synthesized citizen feedback and planning constraints. For policy, generate legislative text or policy briefs.\\n    *   **Causal Modeling for Impact Prediction:** Build causal inference models to predict the socio-economic, environmental, and public health impacts of different generated designs or policies *before* implementation, helping to identify unintended consequences or inequities (e.g., \"What would be the causal effect of adding a park in neighborhood X on local property values, crime rates, and air quality?\").\\n    *   **Fairness-Aware & Explainable Recommendation:** Ensure generated proposals and impact predictions are scrutinized for bias and lead to equitable outcomes. XAI techniques should explain *why* certain designs are generated or impacts are predicted.\\n*   **Key AI/ML Techniques:** Multimodal Deep Learning (Transformers for fusing text, image, geo data), Generative AI (Diffusion Models, GANs), NLP (LLMs, summarization), Computer Vision (object detection, scene understanding), Causal Inference, Fairness-Aware ML, Geospatial AI, XAI.\\n\\n---\\n\\n### **2. Explainable & Resilient AI for Critical Infrastructure Management (Beyond Prediction)**\\n\\n*   **Societal Impact:** Enhance the reliability, efficiency, security, and *equity* of essential services (e.g., water, energy, transportation grids) in the face of climate change, cyber threats, and aging infrastructure, preventing systemic failures.\\n*   **Advanced Aspects:**\\n    *   **Physics-Informed Neural Networks (PINNs):** Integrate known physical laws (fluid dynamics for water, electrical laws for power grids, traffic flow models) directly into neural networks to create highly accurate and robust models that can simulate complex systems, predict failures (e.g., pipe bursts, power outages), and ensure physical plausibility.\\n    *   **Graph Neural Networks (GNNs) for Network Topology:** Model the complex interconnections of infrastructure (pipes, power lines, roads) as graphs to understand cascading failures, optimize flow, and identify critical vulnerabilities.\\n    *   **Multi-Agent Reinforcement Learning (MARL) for Decentralized Control:** Develop autonomous agents that can make real-time, coordinated decisions across the grid (e.g., adjusting water pump speeds, rerouting traffic, balancing power load from renewables) to optimize efficiency, resilience, and respond to disruptions.\\n    *   **Anomaly Detection & Cyber-Physical Security:** Combine real-time sensor data with network topology (GNNs) to detect subtle anomalies indicative of equipment failure, environmental stress, or cyber-attacks that target the physical infrastructure.\\n    *   **Strong Explainable AI (XAI) & Fairness-Aware Resource Allocation:** When resources are scarce (e.g., during a drought or power shortage), the AI must make decisions on resource distribution in an *auditable, transparent, and equitable* manner, with clear explanations for any prioritization.\\n*   **Key AI/ML Techniques:** PINNs, GNNs, Multi-Agent Reinforcement Learning, Anomaly Detection, Time-series Forecasting, XAI, Fairness-Aware ML, Digital Twins (for simulating infrastructure).\\n\\n---\\n\\n### **3. Hyper-Personalized & Proactive Lifelong Learning Platform**\\n\\n*   **Societal Impact:** Address the growing skills gap, facilitate seamless career transitions, and promote continuous, effective learning for adults in a rapidly evolving job market. This democratizes access to highly tailored education, crucial for economic stability and personal growth.\\n*   **Advanced Aspects:**\\n    *   **Deep Skill Graph & Causal Career Modeling:** Develop a comprehensive, dynamic knowledge graph of skills, job roles, and their causal relationships. Use causal inference to model how acquiring specific skills impacts career trajectories and earning potential in a changing market.\\n    *   **Multimodal Learner Profiling & Real-time Affective Computing:** Go beyond quizzes. Analyze:\\n        *   **NLP:** Learner goals, past experiences, sentiment from free-form input.\\n        *   **Computer Vision:** Gaze tracking (focus, confusion), facial expressions (engagement, frustration) during learning (with consent).\\n        *   **Voice/Speech Analysis:** Tone, pace, word choice to infer cognitive load or understanding.\\n        *   **Interaction Data:** Response times, errors, navigation patterns within the platform.\\n        *   This creates a rich, real-time profile of learning style, engagement, and cognitive state.\\n    *   **Adaptive Reinforcement Learning for Dynamic Curriculum:** An RL agent acts as an ultra-intelligent tutor, dynamically adjusting content difficulty, learning path, presentation modality (text, video, interactive simulation), and feedback strategies based on the learner\\'s moment-by-moment progress, cognitive state, and long-term goals.\\n    *   **Generative AI for Bespoke Content Creation:** Leverage advanced LLMs and Diffusion Models to dynamically generate highly personalized learning materials: explanations in different styles, bespoke practice problems, interactive simulations, and even career-path scenario analyses, all tailored to the individual\\'s current understanding and preferences.\\n*   **Key AI/ML Techniques:** Reinforcement Learning (Deep RL), Generative AI (LLMs, Diffusion Models), Causal Inference, Knowledge Graphs, Multimodal Deep Learning (Transformers for fusion), Affective Computing, Computer Vision, NLP, XAI for learning insights.\\n\\n---\\n\\n### **4. AI for Data Synthesis & Augmentation in Underserved Domains (Ethical & Privacy-Preserving)**\\n\\n*   **Societal Impact:** Break down data scarcity barriers that prevent AI from benefiting all segments of society, especially in areas like rare disease research, low-resource languages, or marginalized communities where real-world data is sparse or too sensitive to share.\\n*   **Advanced Aspects:**\\n    *   **High-Fidelity Multimodal Synthetic Data Generation:** Develop cutting-edge Diffusion Models, GANs, or VAEs that can generate *realistic, diverse, and statistically representative synthetic datasets* across various modalities (e.g., synthetic patient records with medical images, synthetic text for low-resource languages, synthetic sensor data for remote monitoring). The goal is to produce data that AI models can train on effectively, without using real, sensitive data.\\n    *   **Differential Privacy (DP) & Secure Multi-Party Computation (SMC):** Integrate these techniques into the synthetic data generation process itself, or use them to train generative models, providing mathematical guarantees that the synthetic data cannot be reverse-engineered to reveal information about specific real individuals.\\n    *   **Few-Shot & Self-Supervised Learning Integration:** Design the synthetic data generation framework to specifically support downstream few-shot or self-supervised learning tasks, where only a tiny amount of real labeled data (or no labels at all) is available.\\n    *   **Bias Detection & Mitigation in Synthetic Data:** Crucially, build in mechanisms to detect and *prevent* the amplification of existing biases from the real (but scarce) data into the synthetic data, or even to generate *de-biased* synthetic data.\\n    *   **Rigorous Validation Framework:** Develop advanced statistical and ML-based methods to quantitatively validate the utility, diversity, and privacy guarantees of the synthetic data for specific downstream tasks, going beyond simple visual inspection.\\n*   **Key AI/ML Techniques:** Diffusion Models, GANs, VAEs (for generation), Differential Privacy, Secure Multi-Party Computation, Self-Supervised Learning, Few-Shot Learning, Transfer Learning, Fairness-Aware ML (for bias mitigation), Anomaly Detection (for validating synthetic data quality).\\n\\n---\\n\\nChoose the project that most ignites your passion and where you feel you can make the most significant contribution. Each offers immense potential for advanced research and real-world positive change! Good luck!' type='TextMessage'\n"
     ]
    }
   ],
   "source": [
    "from autogen_core import CancellationToken\n",
    "async def assistant_run()->None:\n",
    "    response=await  agent.on_messages(\n",
    "        messages=[TextMessage(content=\"i complete the ai/ml .please suggest some advance projects useful to society\",source=\"user\")],\n",
    "        cancellation_token=CancellationToken(),\n",
    "    )\n",
    "    print(response.inner_messages)\n",
    "    print(\"\\n\\n\\n\\n\\n\")\n",
    "    print(response.chat_message)\n",
    "await assistant_run()"
   ]
  },
  {
   "cell_type": "code",
   "execution_count": 18,
   "id": "6e9f8821",
   "metadata": {},
   "outputs": [],
   "source": [
    "async def web_search(query: str) -> str:\n",
    "   \"\"\"find information on the web\"\"\"\n",
    "   return \"the lab retriver or simply lab is a british breed of retriver \""
   ]
  },
  {
   "cell_type": "code",
   "execution_count": 20,
   "id": "1ab44c63",
   "metadata": {},
   "outputs": [],
   "source": [
    "agent=AssistantAgent(\n",
    "    name=\"assistant\",\n",
    "    model_client=model_client,\n",
    "    tools=[web_search],\n",
    "    system_message=\"use tools to slove tasks\"\n",
    "    )"
   ]
  },
  {
   "cell_type": "code",
   "execution_count": 21,
   "id": "2bb1f2a5",
   "metadata": {},
   "outputs": [
    {
     "name": "stdout",
     "output_type": "stream",
     "text": [
      "the lab retriver or simply lab is a british breed of retriver \n"
     ]
    }
   ],
   "source": [
    "result=await agent.run(task=\"find information about lab retriver\")\n",
    "print(result.messages[-1].content)"
   ]
  },
  {
   "cell_type": "code",
   "execution_count": 23,
   "id": "e698bb43",
   "metadata": {},
   "outputs": [
    {
     "name": "stdout",
     "output_type": "stream",
     "text": [
      "[]\n",
      "\n",
      "\n",
      "\n",
      "\n",
      "\n",
      "\n",
      "id='4855e5b2-5a58-497a-957a-51f5f885feb4' source='assistant' models_usage=RequestUsage(prompt_tokens=157, completion_tokens=17) metadata={} created_at=datetime.datetime(2025, 9, 3, 16, 45, 25, 366332, tzinfo=datetime.timezone.utc) content='The Labrador Retriever, often simply called a Lab, is a British breed of retriever.' type='TextMessage'\n"
     ]
    }
   ],
   "source": [
    "from autogen_core import CancellationToken\n",
    "async def assistant_run()->None:\n",
    "    response=await  agent.on_messages(\n",
    "        messages=[TextMessage(content=\"ind information about lab retriver\",source=\"user\")],\n",
    "        cancellation_token=CancellationToken(),\n",
    "    )\n",
    "    print(response.inner_messages)\n",
    "    print(\"\\n\\n\\n\\n\\n\")\n",
    "    print(response.chat_message)\n",
    "await assistant_run()"
   ]
  },
  {
   "cell_type": "markdown",
   "id": "1ab76587",
   "metadata": {},
   "source": [
    "# stemming"
   ]
  },
  {
   "cell_type": "code",
   "execution_count": 24,
   "id": "2d4ca028",
   "metadata": {},
   "outputs": [
    {
     "name": "stdout",
     "output_type": "stream",
     "text": [
      "---------- ToolCallRequestEvent (assistant) ----------\n",
      "[FunctionCall(id='', arguments='{\"query\":\"Labrador Retriever\"}', name='web_search')]\n",
      "[Prompt tokens: 182, Completion tokens: 17]\n",
      "---------- ToolCallExecutionEvent (assistant) ----------\n",
      "[FunctionCall(id='', arguments='{\"query\":\"Labrador Retriever\"}', name='web_search')]\n",
      "[Prompt tokens: 182, Completion tokens: 17]\n",
      "---------- ToolCallExecutionEvent (assistant) ----------\n",
      "[FunctionExecutionResult(content='the lab retriver or simply lab is a british breed of retriver ', name='web_search', call_id='', is_error=False)]\n",
      "---------- assistant ----------\n",
      "the lab retriver or simply lab is a british breed of retriver \n",
      "---------- Summary ----------\n",
      "Number of inner messages: 2\n",
      "Total prompt tokens: 182\n",
      "Total completion tokens: 17\n",
      "Duration: 3.25 seconds\n",
      "[FunctionExecutionResult(content='the lab retriver or simply lab is a british breed of retriver ', name='web_search', call_id='', is_error=False)]\n",
      "---------- assistant ----------\n",
      "the lab retriver or simply lab is a british breed of retriver \n",
      "---------- Summary ----------\n",
      "Number of inner messages: 2\n",
      "Total prompt tokens: 182\n",
      "Total completion tokens: 17\n",
      "Duration: 3.25 seconds\n"
     ]
    }
   ],
   "source": [
    "from autogen_agentchat.ui import Console\n",
    "async def assistant_run()->None:\n",
    "    await Console(\n",
    "      agent.on_messages_stream(\n",
    "        messages=[TextMessage(content=\"find information about lab retriver\",source=\"user\")],\n",
    "        cancellation_token=CancellationToken(),\n",
    "    ),\n",
    "    output_stats=True)\n",
    "await assistant_run()"
   ]
  },
  {
   "cell_type": "code",
   "execution_count": null,
   "id": "3dd581bb",
   "metadata": {},
   "outputs": [],
   "source": []
  }
 ],
 "metadata": {
  "kernelspec": {
   "display_name": "Python 3",
   "language": "python",
   "name": "python3"
  },
  "language_info": {
   "codemirror_mode": {
    "name": "ipython",
    "version": 3
   },
   "file_extension": ".py",
   "mimetype": "text/x-python",
   "name": "python",
   "nbconvert_exporter": "python",
   "pygments_lexer": "ipython3",
   "version": "3.13.5"
  }
 },
 "nbformat": 4,
 "nbformat_minor": 5
}
