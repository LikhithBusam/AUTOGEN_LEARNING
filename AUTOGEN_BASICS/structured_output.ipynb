{
 "cells": [
  {
   "cell_type": "code",
   "execution_count": 1,
   "id": "8c92b8df",
   "metadata": {},
   "outputs": [
    {
     "name": "stdout",
     "output_type": "stream",
     "text": [
      "Requirement already satisfied: pydantic in c:\\users\\likith\\appdata\\local\\programs\\python\\python313\\lib\\site-packages (2.11.7)\n",
      "Requirement already satisfied: annotated-types>=0.6.0 in c:\\users\\likith\\appdata\\local\\programs\\python\\python313\\lib\\site-packages (from pydantic) (0.7.0)\n",
      "Requirement already satisfied: pydantic-core==2.33.2 in c:\\users\\likith\\appdata\\local\\programs\\python\\python313\\lib\\site-packages (from pydantic) (2.33.2)\n",
      "Requirement already satisfied: typing-extensions>=4.12.2 in c:\\users\\likith\\appdata\\local\\programs\\python\\python313\\lib\\site-packages (from pydantic) (4.15.0)\n",
      "Requirement already satisfied: typing-inspection>=0.4.0 in c:\\users\\likith\\appdata\\local\\programs\\python\\python313\\lib\\site-packages (from pydantic) (0.4.1)\n"
     ]
    }
   ],
   "source": [
    "!pip install pydantic"
   ]
  },
  {
   "cell_type": "code",
   "execution_count": 2,
   "id": "c472b98b",
   "metadata": {},
   "outputs": [],
   "source": [
    "from pydantic import BaseModel\n",
    "class PlannetInfo(BaseModel):\n",
    "    name:str\n",
    "    color:str\n",
    "    distance_miles:int"
   ]
  },
  {
   "cell_type": "code",
   "execution_count": 7,
   "id": "a08beeca",
   "metadata": {},
   "outputs": [],
   "source": [
    "import asyncio\n",
    "import os\n",
    "from autogen_agentchat.agents import AssistantAgent\n",
    "from autogen_ext.models.openai import OpenAIChatCompletionClient\n",
    "from autogen_core.models import ModelInfo\n",
    "api_key=os.getenv(\"GOOGLE_API_KEY\")\n",
    "model_client=OpenAIChatCompletionClient(model=\"gemini-2.5-flash\",temperature=0,api_key=api_key,\n",
    "                                        response_format=PlannetInfo)"
   ]
  },
  {
   "cell_type": "code",
   "execution_count": 8,
   "id": "93e00484",
   "metadata": {},
   "outputs": [],
   "source": [
    "agent=AssistantAgent(\n",
    "    name=\"planet_agent\",\n",
    "    model_client=model_client,\n",
    "   system_message=\"You are a helpful assistant that provides information about planets.\",\n",
    ")"
   ]
  },
  {
   "cell_type": "code",
   "execution_count": 9,
   "id": "deb23389",
   "metadata": {},
   "outputs": [],
   "source": [
    "from autogen_agentchat.messages import TextMessage\n",
    "async def test_structured_output():\n",
    "         task=TextMessage(content=\"please provide information about mars\", source=\"user\")\n",
    "         result=await agent.run(task=task)\n",
    "         print(result.messages[-1].content)"
   ]
  },
  {
   "cell_type": "code",
   "execution_count": 10,
   "id": "2059bf1a",
   "metadata": {},
   "outputs": [
    {
     "name": "stdout",
     "output_type": "stream",
     "text": [
      "{\"name\": \"Mars\", \"color\": \"Red\", \"distance_miles\": 141600000}\n"
     ]
    }
   ],
   "source": [
    "await test_structured_output()"
   ]
  },
  {
   "cell_type": "code",
   "execution_count": null,
   "id": "a6836427",
   "metadata": {},
   "outputs": [],
   "source": []
  }
 ],
 "metadata": {
  "kernelspec": {
   "display_name": "Python 3",
   "language": "python",
   "name": "python3"
  },
  "language_info": {
   "codemirror_mode": {
    "name": "ipython",
    "version": 3
   },
   "file_extension": ".py",
   "mimetype": "text/x-python",
   "name": "python",
   "nbconvert_exporter": "python",
   "pygments_lexer": "ipython3",
   "version": "3.13.5"
  }
 },
 "nbformat": 4,
 "nbformat_minor": 5
}
